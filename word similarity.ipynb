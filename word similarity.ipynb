{
 "cells": [
  {
   "cell_type": "markdown",
   "metadata": {},
   "source": [
    "# To do: \n",
    "\n",
    "\n",
    "Download your favorite pre-trained word vector here (or some other  pretrained network, there are a number floating out on the internet):\n",
    "\n",
    "https://nlp.stanford.edu/projects/glove/\n",
    "\n",
    "If you use one of the glove variables, the file format comes in \"glove.6B.Nd\"  where N is the number of dimensions of the word vector (e.g. 100 to 300)"
   ]
  },
  {
   "cell_type": "code",
   "execution_count": 2,
   "metadata": {
    "scrolled": true
   },
   "outputs": [
    {
     "name": "stderr",
     "output_type": "stream",
     "text": [
      "/Users/rcheung/anaconda3/lib/python3.6/site-packages/smart_open/smart_open_lib.py:398: UserWarning: This function is deprecated, use smart_open.open instead. See the migration notes for details: https://github.com/RaRe-Technologies/smart_open/blob/master/README.rst#migrating-to-the-new-open-function\n",
      "  'See the migration notes for details: %s' % _MIGRATION_NOTES_URL\n"
     ]
    },
    {
     "data": {
      "text/plain": [
       "(400000, 300)"
      ]
     },
     "execution_count": 2,
     "metadata": {},
     "output_type": "execute_result"
    }
   ],
   "source": [
    "from gensim.scripts.glove2word2vec import glove2word2vec\n",
    "\n",
    "\n",
    "filename = './glove/glove.6B.300d.txt'\n",
    "output_filename = 'glove_wordvec.txt'\n",
    "glove2word2vec(filename, output_filename)\n"
   ]
  },
  {
   "cell_type": "code",
   "execution_count": 3,
   "metadata": {
    "scrolled": true
   },
   "outputs": [],
   "source": [
    "from gensim.models import KeyedVectors\n",
    "\n",
    "\n",
    "gensim_model = KeyedVectors.load_word2vec_format(output_filename, binary=False)\n",
    "\n"
   ]
  },
  {
   "cell_type": "code",
   "execution_count": 4,
   "metadata": {},
   "outputs": [
    {
     "data": {
      "text/plain": [
       "[('pies', 0.49387186765670776),\n",
       " ('games', 0.4636159837245941),\n",
       " ('nintendo', 0.4549442231655121),\n",
       " ('playstation', 0.4493129849433899),\n",
       " ('role-playing', 0.42528241872787476),\n",
       " ('iphone', 0.42492005228996277),\n",
       " ('software', 0.41001594066619873),\n",
       " ('tart', 0.40911442041397095),\n",
       " ('chicken', 0.4088081419467926),\n",
       " ('potato', 0.40668442845344543)]"
      ]
     },
     "execution_count": 4,
     "metadata": {},
     "output_type": "execute_result"
    }
   ],
   "source": [
    "input_words = ['larp', 'game', 'apple', 'pie']\n",
    "\n",
    "number_of_results = 10\n",
    "\n",
    "result = gensim_model.most_similar(positive=input_words, \n",
    "                                   topn=number_of_results)\n",
    "\n",
    "print(result)"
   ]
  },
  {
   "cell_type": "code",
   "execution_count": 7,
   "metadata": {
    "scrolled": true
   },
   "outputs": [
    {
     "name": "stdout",
     "output_type": "stream",
     "text": [
      "[('pies', 0.4568193852901459), ('tart', 0.4049183428287506), ('custard', 0.3884083330631256), ('pecan', 0.3798179626464844), ('strawberry', 0.3618505895137787), ('butter', 0.36051565408706665), ('recipe', 0.36041122674942017), ('potato', 0.3595322370529175), ('dessert', 0.3531855642795563), ('baked', 0.3514851927757263)]\n"
     ]
    }
   ],
   "source": [
    "words_to_avoid = ['snake', 'playstation']\n",
    "\n",
    "result = gensim_model.most_similar(positive=input_words, \n",
    "                                   negative=words_to_avoid,\n",
    "                                   topn=number_of_results)\n",
    "print(result)"
   ]
  }
 ],
 "metadata": {
  "kernelspec": {
   "display_name": "Python 3",
   "language": "python",
   "name": "python3"
  },
  "language_info": {
   "codemirror_mode": {
    "name": "ipython",
    "version": 3
   },
   "file_extension": ".py",
   "mimetype": "text/x-python",
   "name": "python",
   "nbconvert_exporter": "python",
   "pygments_lexer": "ipython3",
   "version": "3.6.8"
  }
 },
 "nbformat": 4,
 "nbformat_minor": 2
}
